{
 "cells": [
  {
   "cell_type": "code",
   "execution_count": 32,
   "metadata": {},
   "outputs": [],
   "source": [
    "import abc\n",
    "from enum import Enum\n",
    "from abc import ABC, abstractmethod\n",
    "from typing import Tuple, Optional, Dict"
   ]
  },
  {
   "cell_type": "markdown",
   "metadata": {},
   "source": [
    "# IMPLEMENTATION: Core Neural Type system classes "
   ]
  },
  {
   "cell_type": "code",
   "execution_count": 33,
   "metadata": {},
   "outputs": [],
   "source": [
    "class NeuralTypeComparisonResult(Enum):\n",
    "    \"\"\"The result of comparing two neural type objects for compatibility.\n",
    "    When comparing A.compare_to(B):\"\"\"\n",
    "\n",
    "    SAME = 0\n",
    "    LESS = 1  # A is B\n",
    "    GREATER = 2  # B is A\n",
    "    DIM_INCOMPATIBLE = 3  # Resize connector might fix incompatibility\n",
    "    TRANSPOSE_SAME = 4  # A transpose and/or converting between lists and tensors will make them same\n",
    "    CONTAINER_SIZE_MISMATCH = 5 # A and B contain different number of elements\n",
    "    INCOMPATIBLE = 6 # A and B are incompatible   \n",
    "    SAME_TYPE_INCOMPATIBLE_PARAMS = 7 # A and B are of the same type but parametrized differently"
   ]
  },
  {
   "cell_type": "code",
   "execution_count": 34,
   "metadata": {},
   "outputs": [],
   "source": [
    "class AxisKindAbstract(Enum):\n",
    "    \"\"\"This is an abstract Enum to represents what does varying axis dimension mean.\n",
    "    In practice, you will almost always use AxisKind Enum. This Enum should be inherited by\n",
    "    your OWN Enum if you aren't satisfied with AxisKind. Then your own Enum can be used \n",
    "    instead of AxisKind.\"\"\"\n",
    "    pass\n",
    "\n",
    "class AxisKind(AxisKindAbstract):\n",
    "    \"\"\"This Enum represents what does varying axis dimension mean.\n",
    "    For example, does this dimension correspond to width, batch, time, etc.\"\"\"\n",
    "    Batch = 0\n",
    "    Time = 1\n",
    "    Dimension = 2\n",
    "    Width = 3\n",
    "    Height = 4\n",
    "\n",
    "    def __str__(self):\n",
    "        return str(self.name).lower()\n",
    "\n",
    "    @staticmethod\n",
    "    def from_str(label):\n",
    "        \"\"\"Returns AxisKind instance based on short string representation\"\"\"\n",
    "        _label = label.lower().strip()\n",
    "        if _label == \"b\" or _label == \"n\" or _label == \"batch\":\n",
    "            return AxisKind.Batch\n",
    "        elif _label == \"t\" or _label == \"time\":\n",
    "            return AxisKind.Time\n",
    "        elif _label == \"d\" or _label == \"c\" or _label == \"channel\":\n",
    "            return AxisKind.Dimension\n",
    "        elif _label == \"w\" or _label == \"width\":\n",
    "            return AxisKind.Width\n",
    "        elif _label == \"h\" or _label == \"height\":\n",
    "            return AxisKind.Height\n",
    "        else:\n",
    "            raise ValueError(f\"Can't create AxisKind from {label}\")\n",
    "            "
   ]
  },
  {
   "cell_type": "code",
   "execution_count": 35,
   "metadata": {},
   "outputs": [],
   "source": [
    "class AxisType(object):\n",
    "    \"\"\"This class represents axis semantics and (optionally) it's dimensionality\n",
    "       Args:\n",
    "           kind (AxisKindAbstract): \n",
    "           size (int, optional): \n",
    "           is_list (bool, default=False): \n",
    "    \"\"\"\n",
    "    def __init__(self, \n",
    "                 kind: AxisKindAbstract, \n",
    "                 size: Optional[int], \n",
    "                 is_list=False):\n",
    "        if size is not None and is_list:\n",
    "            raise ValueError(\"The axis can't be list and have a fixed size\")\n",
    "        self.kind = kind\n",
    "        self.size = size\n",
    "        self.is_list = is_list"
   ]
  },
  {
   "cell_type": "code",
   "execution_count": 36,
   "metadata": {},
   "outputs": [],
   "source": [
    "class ElementType(ABC):\n",
    "    \"\"\"Abstract class defining semantics of the tensor elements.\n",
    "    We are replying on Python for inheritance checking\"\"\"    \n",
    "    @abstractmethod    \n",
    "    def __str__(cls):\n",
    "        pass\n",
    "       \n",
    "    @property        \n",
    "    def type_parameters(self) -> Dict:\n",
    "        \"\"\"Override this property to parametrize your type\"\"\"\n",
    "        return {}\n",
    "    \n",
    "    @property\n",
    "    def fields(self) -> Optional[Tuple]:\n",
    "        return None\n",
    "   \n",
    "    def compare(self, second) -> NeuralTypeComparisonResult:\n",
    "        # First, check general compatibility\n",
    "        result = NeuralTypeComparisonResult.SAME\n",
    "        first_t = type(self)\n",
    "        second_t = type(second)\n",
    "        \n",
    "        if first_t == second_t:\n",
    "            result = NeuralTypeComparisonResult.SAME            \n",
    "        elif issubclass(first_t, second_t):\n",
    "            result = NeuralTypeComparisonResult.LESS\n",
    "        elif issubclass(second_t, first_t):\n",
    "            result = NeuralTypeComparisonResult.GREATER\n",
    "        else:\n",
    "            result = NeuralTypeComparisonResult.INCOMPATIBLE        \n",
    "        \n",
    "        if result != NeuralTypeComparisonResult.SAME:\n",
    "            return result\n",
    "        else:\n",
    "            # now check that all parameters match    \n",
    "            check_params = set(self.type_parameters.keys()) == set(second.type_parameters.keys())\n",
    "            if check_params is False:\n",
    "                return NeuralTypeComparisonResult.SAME_TYPE_INCOMPATIBLE_PARAMS\n",
    "            else:\n",
    "                for k1, v1 in self.type_parameters.items():\n",
    "                    if v1 != second.type_parameters[k1]:\n",
    "                        return NeuralTypeComparisonResult.SAME_TYPE_INCOMPATIBLE_PARAMS\n",
    "            # check that all fields match\n",
    "            if self.fields == second.fields:\n",
    "                return NeuralTypeComparisonResult.SAME\n",
    "            else:\n",
    "                return NeuralTypeComparisonResult.INCOMPATIBLE\n",
    "\n",
    "class VoidType(ElementType):\n",
    "    \"\"\"Void-like type which is compatible with everything\n",
    "    \"\"\"\n",
    "    def __str__(self):\n",
    "        return str(\"void type. compatible with everything\")    \n",
    "    \n",
    "    def compare(cls, second: abc.ABCMeta) -> NeuralTypeComparisonResult:\n",
    "        return NeuralTypeComparisonResult.SAME    "
   ]
  },
  {
   "cell_type": "code",
   "execution_count": 37,
   "metadata": {},
   "outputs": [],
   "source": [
    "class NeuralType(object):\n",
    "    \"\"\"This is the main class which would represent neural type concept.\n",
    "    nmTensors derives from this. It is used to represent *the types* of inputs and outputs.\"\"\"\n",
    "    def __init__(self, elements_type: ElementType, axes: Tuple, optional=False):\n",
    "        self.__check_sanity(axes)\n",
    "        self.elements_type = elements_type\n",
    "        axes_list = []\n",
    "        for axis in axes:\n",
    "            if isinstance(axis, str):\n",
    "                axes_list.append(AxisType(AxisKind.from_str(axis), None))\n",
    "            elif isinstance(axis, AxisType):\n",
    "                axes_list.append(axis)\n",
    "            else:\n",
    "                raise ValueError(f\"axis type must be either str or AxisType instance\")\n",
    "        self.axes_tuple = tuple(axes_list)\n",
    "        self.optional = optional\n",
    "    \n",
    "    def compare(self, second) -> NeuralTypeComparisonResult:\n",
    "        # First, handle dimensionality\n",
    "        axes_a = self.axes_tuple\n",
    "        axes_b = second.axes_tuple\n",
    "        \n",
    "        kinds_a = dict()\n",
    "        kinds_b = dict()      \n",
    "                        \n",
    "        dimensions_pass = True\n",
    "        for axis_a, axis_b in zip(axes_a, axes_b):\n",
    "            kinds_a[axis_a.kind] = axis_a.size\n",
    "            kinds_b[axis_b.kind] = axis_b.size\n",
    "            if axis_a.kind != axis_b.kind or axis_a.is_list != axis_b.is_list:\n",
    "                dimensions_pass = False\n",
    "        \n",
    "        if kinds_a.keys() != kinds_b.keys():\n",
    "            return NeuralTypeComparisonResult.INCOMPATIBLE\n",
    "        for kind, size in kinds_a.items():\n",
    "            if size != kinds_b[kind]:\n",
    "                return NeuralTypeComparisonResult.DIM_INCOMPATIBLE        \n",
    "\n",
    "        element_comparison_result = self.elements_type.compare(second.elements_type)\n",
    "        if dimensions_pass:\n",
    "            return element_comparison_result\n",
    "        elif element_comparison_result == NeuralTypeComparisonResult.SAME:\n",
    "            return NeuralTypeComparisonResult.TRANSPOSE_SAME\n",
    "        else:\n",
    "            return NeuralTypeComparisonResult.INCOMPATIBLE\n",
    "    \n",
    "    def __check_sanity(self, axes):\n",
    "        # check that list come before any tensor dimension\n",
    "        are_strings = True\n",
    "        for axis in axes:\n",
    "            if not isinstance(axis, str):\n",
    "                are_strings = False\n",
    "            if isinstance(axis, str) and not are_strings:\n",
    "                raise ValueError(\"Either use full class names or all strings\")\n",
    "        if are_strings:\n",
    "            return\n",
    "        checks_passed = True\n",
    "        saw_tensor_dim = False\n",
    "        for axis in axes:            \n",
    "            if not axis.is_list:\n",
    "                saw_tensor_dim = True\n",
    "            else: # current axis is a list\n",
    "                if saw_tensor_dim: # which is preceded by tensor dim\n",
    "                    checks_passed=False\n",
    "        if not checks_passed:\n",
    "            raise ValueError(\"You have list dimension after Tensor dimension. All list dimensions must preceed Tensor dimensions\")"
   ]
  },
  {
   "cell_type": "markdown",
   "metadata": {},
   "source": [
    "# Usage examples"
   ]
  },
  {
   "cell_type": "markdown",
   "metadata": {},
   "source": [
    "#### Example 1. Define Jasper Encoder's outputs"
   ]
  },
  {
   "cell_type": "raw",
   "metadata": {},
   "source": [
    "In a NeMo version 0.9.0 and below, one would do:"
   ]
  },
  {
   "cell_type": "raw",
   "metadata": {},
   "source": [
    "NeuralType({0: AxisType(BatchTag),\n",
    "            1: AxisType(EncodedRepresentationTag), # EncodedRepresentationTag is a ChannelTag\n",
    "            2: AxisType(ProcessedTimeTag)})"
   ]
  },
  {
   "cell_type": "raw",
   "metadata": {},
   "source": [
    "In a current proposal"
   ]
  },
  {
   "cell_type": "code",
   "execution_count": 38,
   "metadata": {},
   "outputs": [],
   "source": [
    "class ChannelType(ElementType):\n",
    "    def __str__(self):\n",
    "        return \"convolutional channel value\"\n",
    "\n",
    "class AcousticEncodedRepresentation(ChannelType):    \n",
    "    def __str__(self):\n",
    "        return \"encoded representation returned by the acoustic encoder model\""
   ]
  },
  {
   "cell_type": "code",
   "execution_count": 39,
   "metadata": {},
   "outputs": [],
   "source": [
    "T1 = NeuralType(elements_type=AcousticEncodedRepresentation(), \n",
    "                axes=(AxisType(AxisKind.Batch, None), \n",
    "                      AxisType(AxisKind.Dimension, None),  \n",
    "                      AxisType(AxisKind.Time, None)))"
   ]
  },
  {
   "cell_type": "raw",
   "metadata": {},
   "source": [
    "or, a much shorter version"
   ]
  },
  {
   "cell_type": "code",
   "execution_count": 40,
   "metadata": {},
   "outputs": [],
   "source": [
    "T2 = NeuralType(AcousticEncodedRepresentation(), ('B', 'D', 'T'))"
   ]
  },
  {
   "cell_type": "code",
   "execution_count": 41,
   "metadata": {},
   "outputs": [
    {
     "data": {
      "text/plain": [
       "<NeuralTypeComparisonResult.SAME: 0>"
      ]
     },
     "execution_count": 41,
     "metadata": {},
     "output_type": "execute_result"
    }
   ],
   "source": [
    "T1.compare(T2)"
   ]
  },
  {
   "cell_type": "markdown",
   "metadata": {},
   "source": [
    "#### Example 2. Define AudioData layer output - support for frequency"
   ]
  },
  {
   "cell_type": "code",
   "execution_count": 42,
   "metadata": {},
   "outputs": [],
   "source": [
    "# PARAMETRIZED TYPE Example\n",
    "class AudioSignal(ElementType):    \n",
    "    def __str__(self):\n",
    "        return \"encoded representation returned by the acoustic encoder model\"\n",
    "    \n",
    "    def __init__(self, freq=16000):\n",
    "        self._params = {}\n",
    "        self._params['freq'] = freq\n",
    "    \n",
    "    @property\n",
    "    def type_parameters(self):\n",
    "        return self._params\n",
    "\n",
    "\n",
    "T1 = NeuralType(AudioSignal(16000), axes=('B', 'T'))\n",
    "T2 = NeuralType(AudioSignal(8000), axes=('B', 'T'))"
   ]
  },
  {
   "cell_type": "code",
   "execution_count": 43,
   "metadata": {},
   "outputs": [
    {
     "data": {
      "text/plain": [
       "<NeuralTypeComparisonResult.SAME_TYPE_INCOMPATIBLE_PARAMS: 7>"
      ]
     },
     "execution_count": 43,
     "metadata": {},
     "output_type": "execute_result"
    }
   ],
   "source": [
    "T1.compare(T2)"
   ]
  },
  {
   "cell_type": "markdown",
   "metadata": {},
   "source": [
    "#### Example 3. Transpose Same Example"
   ]
  },
  {
   "cell_type": "code",
   "execution_count": 44,
   "metadata": {},
   "outputs": [
    {
     "data": {
      "text/plain": [
       "<NeuralTypeComparisonResult.TRANSPOSE_SAME: 4>"
      ]
     },
     "execution_count": 44,
     "metadata": {},
     "output_type": "execute_result"
    }
   ],
   "source": [
    "T3 = NeuralType(AudioSignal(8000), axes=('T', 'B'))\n",
    "T3.compare(T2)"
   ]
  },
  {
   "cell_type": "markdown",
   "metadata": {},
   "source": [
    "#### Example 4. Input to the data Augmentation module (SpecAugment)"
   ]
  },
  {
   "cell_type": "code",
   "execution_count": 45,
   "metadata": {},
   "outputs": [],
   "source": [
    "class SpectogramType(ChannelType):\n",
    "    def __str__(self):\n",
    "        return \"generic spectorgram type\"\n",
    "    \n",
    "class MelSpectogramType(SpectogramType):\n",
    "    def __str__(self):\n",
    "        return \"mel spectorgram type\"\n",
    "\n",
    "class MFCCSpectogramType(SpectogramType):\n",
    "    def __str__(self):\n",
    "        return \"mfcc spectorgram type\""
   ]
  },
  {
   "cell_type": "code",
   "execution_count": 46,
   "metadata": {},
   "outputs": [],
   "source": [
    "SpecAugmentInput = NeuralType(SpectogramType(), ('B', 'D', 'T'))\n",
    "DL1_out = NeuralType(MelSpectogramType(), ('B', 'D', 'T'))\n",
    "DL2_out = NeuralType(MFCCSpectogramType(), ('B', 'D', 'T'))"
   ]
  },
  {
   "cell_type": "code",
   "execution_count": 47,
   "metadata": {},
   "outputs": [
    {
     "data": {
      "text/plain": [
       "<NeuralTypeComparisonResult.INCOMPATIBLE: 6>"
      ]
     },
     "execution_count": 47,
     "metadata": {},
     "output_type": "execute_result"
    }
   ],
   "source": [
    "DL1_out.compare(DL2_out)"
   ]
  },
  {
   "cell_type": "code",
   "execution_count": 48,
   "metadata": {},
   "outputs": [
    {
     "data": {
      "text/plain": [
       "<NeuralTypeComparisonResult.GREATER: 2>"
      ]
     },
     "execution_count": 48,
     "metadata": {},
     "output_type": "execute_result"
    }
   ],
   "source": [
    "SpecAugmentInput.compare(DL1_out)"
   ]
  },
  {
   "cell_type": "code",
   "execution_count": 49,
   "metadata": {},
   "outputs": [
    {
     "data": {
      "text/plain": [
       "<NeuralTypeComparisonResult.GREATER: 2>"
      ]
     },
     "execution_count": 49,
     "metadata": {},
     "output_type": "execute_result"
    }
   ],
   "source": [
    "SpecAugmentInput.compare(DL2_out)"
   ]
  },
  {
   "cell_type": "markdown",
   "metadata": {},
   "source": [
    "#### Example 5. List of Lists of 3 dimensional matrices"
   ]
  },
  {
   "cell_type": "code",
   "execution_count": 50,
   "metadata": {},
   "outputs": [],
   "source": [
    "T1=NeuralType(elements_type=ChannelType(), \n",
    "              axes=(AxisType(kind=AxisKind.Batch, size=None, is_list=True),                     \n",
    "                    AxisType(kind=AxisKind.Time, size=None, is_list=True),\n",
    "                    AxisType(kind=AxisKind.Dimension, size=32, is_list=False),\n",
    "                    AxisType(kind=AxisKind.Dimension, size=128, is_list=False),\n",
    "                    AxisType(kind=AxisKind.Dimension, size=256, is_list=False)))"
   ]
  },
  {
   "cell_type": "raw",
   "metadata": {},
   "source": [
    "NOTE: THIS IS NOT THE SAME AS a 5-dimensional matrix:"
   ]
  },
  {
   "cell_type": "code",
   "execution_count": 51,
   "metadata": {},
   "outputs": [],
   "source": [
    "T2=NeuralType(elements_type=ChannelType(), \n",
    "              axes=(AxisType(kind=AxisKind.Batch, size=None, is_list=False),                     \n",
    "                    AxisType(kind=AxisKind.Time, size=None, is_list=False),\n",
    "                    AxisType(kind=AxisKind.Dimension, size=32, is_list=False),\n",
    "                    AxisType(kind=AxisKind.Dimension, size=128, is_list=False),\n",
    "                    AxisType(kind=AxisKind.Dimension, size=256, is_list=False)))"
   ]
  },
  {
   "cell_type": "code",
   "execution_count": 52,
   "metadata": {},
   "outputs": [
    {
     "data": {
      "text/plain": [
       "<NeuralTypeComparisonResult.TRANSPOSE_SAME: 4>"
      ]
     },
     "execution_count": 52,
     "metadata": {},
     "output_type": "execute_result"
    }
   ],
   "source": [
    "# TODO: SHOULD THIS BE TRANSFORM_SAME???\n",
    "T2.compare(T1)"
   ]
  },
  {
   "cell_type": "markdown",
   "metadata": {},
   "source": [
    "#### Example 6. Structs"
   ]
  },
  {
   "cell_type": "code",
   "execution_count": 53,
   "metadata": {},
   "outputs": [],
   "source": [
    "class BoundingBox(ElementType):    \n",
    "    def __str__(self):\n",
    "        return \"bounding box from detection model\"\n",
    "    def fields(self):\n",
    "        return (\"X\", \"Y\", \"W\", \"H\")\n",
    "\n",
    "# ALSO ADD new, user-defined, axis kind\n",
    "class AxisKind2(AxisKindAbstract):\n",
    "    Image = 0"
   ]
  },
  {
   "cell_type": "code",
   "execution_count": 54,
   "metadata": {},
   "outputs": [],
   "source": [
    "T1=NeuralType(elements_type=BoundingBox(), \n",
    "              axes=(AxisType(kind=AxisKind.Batch, size=None, is_list=True),                     \n",
    "                    AxisType(kind=AxisKind2.Image, size=None, is_list=True)))"
   ]
  },
  {
   "cell_type": "code",
   "execution_count": 55,
   "metadata": {},
   "outputs": [],
   "source": [
    "class BadBoundingBox(ElementType):    \n",
    "    def __str__(self):\n",
    "        return \"bad bounding box from detection model\"\n",
    "    def fields(self):\n",
    "        return (\"X\", \"Y\", \"H\")"
   ]
  },
  {
   "cell_type": "code",
   "execution_count": 56,
   "metadata": {},
   "outputs": [],
   "source": [
    "T2=NeuralType(elements_type=BoundingBox(), \n",
    "              axes=(AxisType(kind=AxisKind.Batch, size=None, is_list=True),                     \n",
    "                    AxisType(kind=AxisKind2.Image, size=None, is_list=True)))"
   ]
  },
  {
   "cell_type": "code",
   "execution_count": 57,
   "metadata": {},
   "outputs": [
    {
     "data": {
      "text/plain": [
       "<NeuralTypeComparisonResult.INCOMPATIBLE: 6>"
      ]
     },
     "execution_count": 57,
     "metadata": {},
     "output_type": "execute_result"
    }
   ],
   "source": [
    "T2.compare(T1)"
   ]
  },
  {
   "cell_type": "code",
   "execution_count": null,
   "metadata": {},
   "outputs": [],
   "source": []
  }
 ],
 "metadata": {
  "kernelspec": {
   "display_name": "Python 3",
   "language": "python",
   "name": "python3"
  },
  "language_info": {
   "codemirror_mode": {
    "name": "ipython",
    "version": 3
   },
   "file_extension": ".py",
   "mimetype": "text/x-python",
   "name": "python",
   "nbconvert_exporter": "python",
   "pygments_lexer": "ipython3",
   "version": "3.6.9"
  }
 },
 "nbformat": 4,
 "nbformat_minor": 2
}
